{
 "metadata": {
  "name": "final project.ipynb"
 },
 "nbformat": 3,
 "nbformat_minor": 0,
 "worksheets": [
  {
   "cells": [
    {
     "cell_type": "heading",
     "level": 1,
     "metadata": {},
     "source": [
      "Lesson 11.1 - Limitations of Inviscid Panel Method"
     ]
    },
    {
     "cell_type": "heading",
     "level": 2,
     "metadata": {},
     "source": [
      "Chase Johnson"
     ]
    },
    {
     "cell_type": "markdown",
     "metadata": {},
     "source": [
      "In the code so far, we have found solutions around approximated geometries for invsicid incompressible flows only.  In this workbook we will take a look at the theory behind these assumptions and determine the physical limitations of our current code.  This is especially important for determining the aerodynamic characteristics of low-speed airfoils such as hobby planes, UAVs, and MAVs.  Understanding the latter two will have significant impact in their design and use for military and civilian applications.  To aid in our analysis, we will be utilizing our current panel method for an inviscid approximation, XFLR5 to compute 2-D and 3-D boundary layer corrections, and we will compare that data to low speed wind tunnel measurements reported in *Summary of Low-Speed Airfoil Data, Volume 5* taken by Gregory A. Williamson, *et al.*  The next step after our assessment here will be to incorporate corrections to our code to include boundary layer effects, wake panels, etc.  "
     ]
    },
    {
     "cell_type": "markdown",
     "metadata": {},
     "source": []
    },
    {
     "cell_type": "code",
     "collapsed": false,
     "input": [],
     "language": "python",
     "metadata": {},
     "outputs": []
    }
   ],
   "metadata": {}
  }
 ]
}