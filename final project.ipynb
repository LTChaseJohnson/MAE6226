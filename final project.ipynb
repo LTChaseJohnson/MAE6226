{
 "metadata": {
  "name": "final project.ipynb"
 },
 "nbformat": 3,
 "nbformat_minor": 0,
 "worksheets": [
  {
   "cells": [
    {
     "cell_type": "heading",
     "level": 1,
     "metadata": {},
     "source": [
      "Lesson 11.1 - Limitations of Inviscid Panel Method"
     ]
    },
    {
     "cell_type": "heading",
     "level": 2,
     "metadata": {},
     "source": [
      "Chase Johnson"
     ]
    },
    {
     "cell_type": "markdown",
     "metadata": {},
     "source": [
      "In the code so far, we have found solutions around approximated geometries for invsicid incompressible flows only.  In this workbook we will take a look at the theory behind these assumptions and determine the physical limitations of our current code.  This is especially important for determining the aerodynamic characteristics of low-speed airfoils such as hobby planes, UAVs, and MAVs.  Understanding the latter two will have significant impact in their design and use for military and civilian applications.  To aid in our analysis, we will be utilizing our current panel method for an inviscid approximation, XFLR5 to compute 2-D and 3-D boundary layer corrections, and we will compare that data to low speed wind tunnel measurements reported in *Summary of Low-Speed Airfoil Data, Volume 1 and 5* taken by Michael S. Selig, *et al.* and Gregory A. Williamson, *et al.* respectively.  The next step after our assessment here will be to incorporate corrections to our code to include boundary layer effects, wake panels, etc.  "
     ]
    },
    {
     "cell_type": "heading",
     "level": 2,
     "metadata": {},
     "source": [
      "Background on inviscid limitations"
     ]
    },
    {
     "cell_type": "markdown",
     "metadata": {},
     "source": [
      "Recall from fluid mechanics that the Reynolds number is the ratio between the inertial and viscous forces.\n",
      "\n",
      "$$Re=\\frac{\\rho VL}{\\mu}=\\frac{VL}{\\nu} \\text{where} \\nu \\text{is the kinematic viscosity given by} $\\nu=\\frac{\\mu}{\\rho}$$\n",
      "\n",
      "For airfoils in particular, we know what the length scale is and a frequently used version is called the Chord Reynolds number\n",
      "\n",
      "$$R=\\frac{Vc}{\\nu} \\text{where c is the airfoil chord length}$$\n",
      "\n",
      "To understand physically what the Reynolds number means, let's take a look at where our area of concern for aviation lies with respect to Reynolds number.  In the figure below taken from Lissaman(1983), we can see that there is a wide range of Reynolds numbers ($\\sim 10^3 - \\sim 10^8$) that we must concern ourselves with to understand human engineered flight.  If we want to understand nature's mastery of aeronautics that range expands even further!"
     ]
    },
    {
     "cell_type": "markdown",
     "metadata": {},
     "source": [
      "<img src=\"C:/Users/chasevjohnson/Dropbox/Graduate_School/AeroDynamics/Lissaman1.jpg\">"
     ]
    },
    {
     "cell_type": "markdown",
     "metadata": {},
     "source": [
      "Let's see how our code thus far works for various airfoils that have been tested by Selig and Williamson."
     ]
    },
    {
     "cell_type": "code",
     "collapsed": false,
     "input": [],
     "language": "python",
     "metadata": {},
     "outputs": []
    }
   ],
   "metadata": {}
  }
 ]
}