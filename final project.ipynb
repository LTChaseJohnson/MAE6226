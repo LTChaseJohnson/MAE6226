{
 "metadata": {
  "name": "final project.ipynb"
 },
 "nbformat": 3,
 "nbformat_minor": 0,
 "worksheets": [
  {
   "cells": [
    {
     "cell_type": "heading",
     "level": 1,
     "metadata": {},
     "source": [
      "Lesson 11.1 - Limitations of Inviscid Panel Method"
     ]
    },
    {
     "cell_type": "heading",
     "level": 2,
     "metadata": {},
     "source": [
      "Chase Johnson"
     ]
    },
    {
     "cell_type": "markdown",
     "metadata": {},
     "source": [
      "In the code so far, we have found solutions around approximated geometries for invsicid incompressible flows only.  In this workbook we will take a look at the theory behind these assumptions and determine the physical limitations of our current code.  The next step after our assessment here will be to incorporate corrections to our code to include boundary layer effects, wake panels, etc.  To aid in our analysis, we will be utilizing XFLR5 to compute boundary layer corrections and we will compare that data to low speed wind tunnel measurements reported in *Summary of Low-Speed Airfoil Data, Volume 5* taken by Gregory A. Williamson, *et al.* "
     ]
    },
    {
     "cell_type": "code",
     "collapsed": false,
     "input": [],
     "language": "python",
     "metadata": {},
     "outputs": []
    }
   ],
   "metadata": {}
  }
 ]
}